{
 "cells": [
  {
   "cell_type": "code",
   "execution_count": 1,
   "metadata": {},
   "outputs": [],
   "source": [
    "from airflow import DAG\n",
    "from airflow.operators.python import PythonOperator\n",
    "from datetime import datetime, timedelta"
   ]
  },
  {
   "cell_type": "code",
   "execution_count": null,
   "metadata": {},
   "outputs": [],
   "source": [
    "from src.extract import extract_data\n",
    "from src.load import load_data\n",
    "from src.transform import transform_data"
   ]
  },
  {
   "cell_type": "code",
   "execution_count": 5,
   "metadata": {},
   "outputs": [
    {
     "data": {
      "text/plain": [
       "<Task(PythonOperator): load_data>"
      ]
     },
     "execution_count": 5,
     "metadata": {},
     "output_type": "execute_result"
    }
   ],
   "source": [
    "dag = DAG(\n",
    "    dag_id='etl_pipeline',\n",
    "    description='ETL pipeline that extracts FDA NDC data and loads to Postgres DB',\n",
    "    start_date=datetime(2025, 2, 1),\n",
    "    schedule='@daily',\n",
    "    default_args={\n",
    "        'owner': 'Alfredo_Test',\n",
    "        'retries': 1,\n",
    "        'retry_delay': timedelta(minutes=5),\n",
    "    },\n",
    "    catchup=False,\n",
    "    tags=['TEST']\n",
    ")\n",
    "\n",
    "\n",
    "# Task 1: Extract data\n",
    "extract_task = PythonOperator(\n",
    "    task_id='extract_data',\n",
    "    python_callable=extract_data,\n",
    "    dag=dag\n",
    ")\n",
    "\n",
    "# Task 2: Transform data\n",
    "transform_task = PythonOperator(\n",
    "    task_id='transform_data',\n",
    "    python_callable=transform_data,\n",
    "    dag=dag\n",
    ")\n",
    "\n",
    "# Task 3: Load data\n",
    "load_task = PythonOperator(\n",
    "    task_id='load_data',\n",
    "    python_callable=load_data,\n",
    "    dag=dag\n",
    ")\n",
    "\n",
    "# Set task dependencies\n",
    "extract_task >> transform_task >> load_task"
   ]
  }
 ],
 "metadata": {
  "kernelspec": {
   "display_name": ".venv (3.10.0)",
   "language": "python",
   "name": "python3"
  },
  "language_info": {
   "codemirror_mode": {
    "name": "ipython",
    "version": 3
   },
   "file_extension": ".py",
   "mimetype": "text/x-python",
   "name": "python",
   "nbconvert_exporter": "python",
   "pygments_lexer": "ipython3",
   "version": "3.10.0"
  }
 },
 "nbformat": 4,
 "nbformat_minor": 2
}
