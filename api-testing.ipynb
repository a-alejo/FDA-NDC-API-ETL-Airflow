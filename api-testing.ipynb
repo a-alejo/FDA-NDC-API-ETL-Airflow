{
 "cells": [
  {
   "cell_type": "markdown",
   "metadata": {},
   "source": [
    "# FDA NTC ETL Pipeline\n",
    "- API website: https://open.fda.gov/data/downloads/\n",
    "- Objective: Collect drug information from the FDA NDC (National Drug Code Directory) API"
   ]
  },
  {
   "cell_type": "code",
   "execution_count": 41,
   "metadata": {},
   "outputs": [
    {
     "name": "stdout",
     "output_type": "stream",
     "text": [
      "200\n"
     ]
    }
   ],
   "source": [
    "# Requesting the API and getting a status code\n",
    "import requests\n",
    "response = requests.get(\"https://api.fda.gov/drug/ndc.json\")\n",
    "print(response.status_code)"
   ]
  },
  {
   "cell_type": "code",
   "execution_count": 42,
   "metadata": {},
   "outputs": [
    {
     "name": "stdout",
     "output_type": "stream",
     "text": [
      "{\n",
      "    \"disclaimer\": \"Do not rely on openFDA to make decisions regarding medical care. While we make every effort to ensure that data is accurate, you should assume all results are unvalidated. We may limit or otherwise restrict your access to the API in line with our Terms of Service.\",\n",
      "    \"last_updated\": \"2025-02-07\",\n",
      "    \"license\": \"https://open.fda.gov/license/\",\n",
      "    \"results\": {\n",
      "        \"limit\": 1,\n",
      "        \"skip\": 0,\n",
      "        \"total\": 128775\n",
      "    },\n",
      "    \"terms\": \"https://open.fda.gov/terms/\"\n",
      "}\n"
     ]
    }
   ],
   "source": [
    "import json\n",
    "\n",
    "# Request the API\n",
    "response = requests.get(\"https://api.fda.gov/drug/ndc.json\")\n",
    "data = response.json()\n",
    "\n",
    "# Checking if the request was successful then returning a sample of the data\n",
    "if response.status_code == 200:\n",
    "    data = response.json()\n",
    "    print(json.dumps(data['meta'], indent=4, sort_keys=True))\n",
    "else:\n",
    "    print('Failed to fetch data', response.status_code)"
   ]
  },
  {
   "cell_type": "code",
   "execution_count": 43,
   "metadata": {},
   "outputs": [],
   "source": [
    "import psycopg2\n",
    "from dotenv import load_dotenv\n",
    "import os\n",
    "\n",
    "# load credentials\n",
    "load_dotenv()\n",
    "db_user = os.getenv('db_user')\n",
    "db_password = os.getenv('db_password')\n",
    "\n",
    "# connect to the postgres database\n",
    "conn = psycopg2.connect(\n",
    "    host = 'localhost',\n",
    "    database = 'postgres',\n",
    "    user = db_user,\n",
    "    password = db_password)\n",
    "\n",
    "cursor = conn.cursor()"
   ]
  },
  {
   "cell_type": "code",
   "execution_count": 44,
   "metadata": {},
   "outputs": [],
   "source": [
    "# reconnect to the access the new database\n",
    "conn = psycopg2.connect(\n",
    "    host = 'localhost',\n",
    "    database = 'Postgres 16 - Localhost - FDA-NDC-ETL_db',\n",
    "    user = db_user,\n",
    "    password = db_password)\n",
    "\n",
    "cursor = conn.cursor()"
   ]
  },
  {
   "cell_type": "code",
   "execution_count": 45,
   "metadata": {},
   "outputs": [],
   "source": [
    "# create the table\n",
    "cursor.execute(\n",
    "'''\n",
    "CREATE TABLE IF NOT EXISTS FDA_Drugs_db (\n",
    "    product_id VARCHAR PRIMARY KEY,\n",
    "    product_ndc VARCHAR,\n",
    "    generic_name TEXT,\n",
    "    labeler_name TEXT,\n",
    "    brand_name TEXT,\n",
    "    active_ingredients VARCHAR,  -- This needs to be serialized\n",
    "    finished BOOLEAN,\n",
    "    packaging VARCHAR,  -- This needs to be serialized\n",
    "    listing_expiration_date DATE,\n",
    "    openfda VARCHAR,\n",
    "    marketing_category VARCHAR,\n",
    "    dosage_form VARCHAR,\n",
    "    spl_id VARCHAR,\n",
    "    product_type VARCHAR,\n",
    "    route TEXT[],\n",
    "    marketing_start_date DATE,\n",
    "    brand_name_base VARCHAR,\n",
    "    pharm_class VARCHAR  -- This needs to be serialized\n",
    "                                        );\n",
    "'''\n",
    ")\n",
    "# Commit\n",
    "conn.commit()"
   ]
  },
  {
   "cell_type": "code",
   "execution_count": 46,
   "metadata": {},
   "outputs": [
    {
     "name": "stdout",
     "output_type": "stream",
     "text": [
      "[product_ndc, generic_name, labeler_name, brand_name, active_ingredients, finished, packaging, listing_expiration_date, openfda, marketing_category, dosage_form, spl_id, product_type, route, marketing_start_date, product_id, brand_name_base, pharm_class]\n"
     ]
    }
   ],
   "source": [
    "# Print each items in 'results' as a list for easy viewing and editing\n",
    "for result in data['results']:\n",
    "    print(\"[\", end=\"\")\n",
    "    print(*result, sep=\", \", end=\"\")\n",
    "    print(\"]\")\n",
    "\n",
    "# Using a manual approach for data extraction and handling to break out each item for SQL insertion instead of relying on pd.json_normalize\n",
    "for result in data['results']:\n",
    "    product_ndc = result['product_ndc']\n",
    "    generic_name = result['generic_name']\n",
    "    labeler_name = result['labeler_name']\n",
    "    brand_name = result['brand_name']\n",
    "    # active_ingredients = result['active_ingredients']  # this is a dictionary\n",
    "    finished = result['finished']\n",
    "    # packaging = result['packaging']  - this is a dictionary\n",
    "    listing_expiration_date = result['listing_expiration_date']\n",
    "    # openfda = result['openfda'] - this is a dictionary\n",
    "    marketing_category = result['marketing_category']\n",
    "    dosage_form = result['dosage_form']\n",
    "    spl_id = result['spl_id']\n",
    "    product_type = result['product_type']\n",
    "    route = result['route']\n",
    "    marketing_start_date = result['marketing_start_date']\n",
    "    product_id = result['product_id']\n",
    "    brand_name_base = result['brand_name_base']\n",
    "    # pharm_class = result['pharm_class'] - this is a dictionary"
   ]
  },
  {
   "cell_type": "code",
   "execution_count": 47,
   "metadata": {},
   "outputs": [],
   "source": [
    "# Add data to the table\n",
    "cursor.execute(\n",
    "    '''\n",
    "    INSERT INTO FDA_Drugs_db (\n",
    "    \"product_ndc\",\n",
    "    \"generic_name\",\n",
    "    \"labeler_name\",\n",
    "    \"brand_name\",\n",
    "    \"finished\",\n",
    "    \"listing_expiration_date\",\n",
    "    \"marketing_category\",\n",
    "    \"dosage_form\",\n",
    "    \"spl_id\",\n",
    "    \"product_type\",\n",
    "    \"route\",\n",
    "    \"marketing_start_date\",\n",
    "    \"product_id\",\n",
    "    \"brand_name_base\"\n",
    ")\n",
    "VALUES (%s, %s, %s, %s, %s, %s, %s, %s, %s, %s, %s, %s, %s, %s)\n",
    "ON CONFLICT (\"product_id\") DO NOTHING\n",
    "    ''', \n",
    "    (\n",
    "        product_ndc,\n",
    "        generic_name,\n",
    "        labeler_name,\n",
    "        brand_name,\n",
    "        finished,\n",
    "        listing_expiration_date,\n",
    "        marketing_category,\n",
    "        dosage_form,\n",
    "        spl_id,\n",
    "        product_type,\n",
    "        route,\n",
    "        marketing_start_date,\n",
    "        product_id,\n",
    "        brand_name_base\n",
    "    )\n",
    ")\n",
    "\n",
    "# Commit the transaction\n",
    "conn.commit()"
   ]
  },
  {
   "cell_type": "code",
   "execution_count": 48,
   "metadata": {},
   "outputs": [],
   "source": [
    "# add data to the table\n",
    "sql_query = '''\n",
    "            SELECT * FROM FDA_Drugs_db\n",
    "            '''\n",
    "    \n",
    "# Execute the query\n",
    "cursor.execute(sql_query)\n",
    "# Fetch all the results\n",
    "results = cursor.fetchall()"
   ]
  },
  {
   "cell_type": "code",
   "execution_count": 49,
   "metadata": {},
   "outputs": [
    {
     "data": {
      "text/html": [
       "<div>\n",
       "<style scoped>\n",
       "    .dataframe tbody tr th:only-of-type {\n",
       "        vertical-align: middle;\n",
       "    }\n",
       "\n",
       "    .dataframe tbody tr th {\n",
       "        vertical-align: top;\n",
       "    }\n",
       "\n",
       "    .dataframe thead th {\n",
       "        text-align: right;\n",
       "    }\n",
       "</style>\n",
       "<table border=\"1\" class=\"dataframe\">\n",
       "  <thead>\n",
       "    <tr style=\"text-align: right;\">\n",
       "      <th></th>\n",
       "      <th>product_id</th>\n",
       "      <th>product_ndc</th>\n",
       "      <th>generic_name</th>\n",
       "      <th>labeler_name</th>\n",
       "      <th>brand_name</th>\n",
       "      <th>active_ingredients</th>\n",
       "      <th>finished</th>\n",
       "      <th>packaging</th>\n",
       "      <th>listing_expiration_date</th>\n",
       "      <th>openfda</th>\n",
       "      <th>marketing_category</th>\n",
       "      <th>dosage_form</th>\n",
       "      <th>spl_id</th>\n",
       "      <th>product_type</th>\n",
       "      <th>route</th>\n",
       "      <th>marketing_start_date</th>\n",
       "      <th>brand_name_base</th>\n",
       "      <th>pharm_class</th>\n",
       "    </tr>\n",
       "  </thead>\n",
       "  <tbody>\n",
       "    <tr>\n",
       "      <th>0</th>\n",
       "      <td>82429-126_08368bc6-272c-a9f2-e063-6394a90a3ab9</td>\n",
       "      <td>82429-126</td>\n",
       "      <td>SULFACETAMIDE SODIUM, SULFUR</td>\n",
       "      <td>Gabar Health Sciences Corp.</td>\n",
       "      <td>Sodium Sulfacetamide 8% and Sulfur 4% Cleanser</td>\n",
       "      <td>None</td>\n",
       "      <td>True</td>\n",
       "      <td>None</td>\n",
       "      <td>2025-12-31</td>\n",
       "      <td>None</td>\n",
       "      <td>UNAPPROVED DRUG OTHER</td>\n",
       "      <td>LIQUID</td>\n",
       "      <td>08368bc6-272c-a9f2-e063-6394a90a3ab9</td>\n",
       "      <td>HUMAN PRESCRIPTION DRUG</td>\n",
       "      <td>[TOPICAL]</td>\n",
       "      <td>2023-04-05</td>\n",
       "      <td>Sodium Sulfacetamide 8% and Sulfur 4% Cleanser</td>\n",
       "      <td>None</td>\n",
       "    </tr>\n",
       "  </tbody>\n",
       "</table>\n",
       "</div>"
      ],
      "text/plain": [
       "                                       product_id product_ndc  \\\n",
       "0  82429-126_08368bc6-272c-a9f2-e063-6394a90a3ab9   82429-126   \n",
       "\n",
       "                   generic_name                 labeler_name  \\\n",
       "0  SULFACETAMIDE SODIUM, SULFUR  Gabar Health Sciences Corp.   \n",
       "\n",
       "                                       brand_name active_ingredients  \\\n",
       "0  Sodium Sulfacetamide 8% and Sulfur 4% Cleanser               None   \n",
       "\n",
       "   finished packaging listing_expiration_date openfda     marketing_category  \\\n",
       "0      True      None              2025-12-31    None  UNAPPROVED DRUG OTHER   \n",
       "\n",
       "  dosage_form                                spl_id             product_type  \\\n",
       "0      LIQUID  08368bc6-272c-a9f2-e063-6394a90a3ab9  HUMAN PRESCRIPTION DRUG   \n",
       "\n",
       "       route marketing_start_date  \\\n",
       "0  [TOPICAL]           2023-04-05   \n",
       "\n",
       "                                  brand_name_base pharm_class  \n",
       "0  Sodium Sulfacetamide 8% and Sulfur 4% Cleanser        None  "
      ]
     },
     "execution_count": 49,
     "metadata": {},
     "output_type": "execute_result"
    }
   ],
   "source": [
    "import pandas as pd\n",
    "\n",
    "# Add column names to dataframe\n",
    "column_names = [x[0] for x in cursor.description]\n",
    "df = pd.DataFrame(results, columns=column_names)\n",
    "\n",
    "# See results\n",
    "df"
   ]
  }
 ],
 "metadata": {
  "kernelspec": {
   "display_name": ".venv",
   "language": "python",
   "name": "python3"
  },
  "language_info": {
   "codemirror_mode": {
    "name": "ipython",
    "version": 3
   },
   "file_extension": ".py",
   "mimetype": "text/x-python",
   "name": "python",
   "nbconvert_exporter": "python",
   "pygments_lexer": "ipython3",
   "version": "3.11.0"
  }
 },
 "nbformat": 4,
 "nbformat_minor": 2
}
