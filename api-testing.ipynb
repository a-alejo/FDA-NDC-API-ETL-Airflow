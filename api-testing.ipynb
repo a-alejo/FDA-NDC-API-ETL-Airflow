{
 "cells": [
  {
   "cell_type": "markdown",
   "metadata": {},
   "source": [
    "# FDA NTC ETL Pipeline\n",
    "- API website: https://open.fda.gov/data/downloads/\n",
    "- Objective: Collect drug information from the FDA NDC (National Drug Code Directory) API"
   ]
  },
  {
   "cell_type": "code",
   "execution_count": 1,
   "metadata": {},
   "outputs": [
    {
     "name": "stdout",
     "output_type": "stream",
     "text": [
      "200\n"
     ]
    }
   ],
   "source": [
    "# Requesting the API and getting a status code\n",
    "import requests\n",
    "response = requests.get(\"https://api.fda.gov/drug/ndc.json\")\n",
    "print(response.status_code)"
   ]
  },
  {
   "cell_type": "code",
   "execution_count": null,
   "metadata": {},
   "outputs": [
    {
     "name": "stdout",
     "output_type": "stream",
     "text": [
      "Total results: 128775\n",
      "failed to get data starting at 25100 with a status code of 400\n",
      "failed to get data starting at 25200 with a status code of 400\n",
      "failed to get data starting at 25300 with a status code of 400\n",
      "failed to get data starting at 25400 with a status code of 400\n",
      "failed to get data starting at 25500 with a status code of 400\n",
      "failed to get data starting at 25600 with a status code of 400\n",
      "failed to get data starting at 25700 with a status code of 400\n",
      "failed to get data starting at 25800 with a status code of 400\n",
      "failed to get data starting at 25900 with a status code of 400\n",
      "failed to get data starting at 26000 with a status code of 400\n",
      "failed to get data starting at 26100 with a status code of 400\n",
      "failed to get data starting at 26200 with a status code of 400\n",
      "failed to get data starting at 26300 with a status code of 400\n",
      "failed to get data starting at 26400 with a status code of 400\n",
      "failed to get data starting at 26500 with a status code of 400\n",
      "failed to get data starting at 26600 with a status code of 400\n",
      "failed to get data starting at 26700 with a status code of 400\n",
      "failed to get data starting at 26800 with a status code of 400\n",
      "failed to get data starting at 26900 with a status code of 400\n",
      "failed to get data starting at 27000 with a status code of 400\n",
      "failed to get data starting at 27100 with a status code of 400\n",
      "failed to get data starting at 27200 with a status code of 400\n",
      "failed to get data starting at 27300 with a status code of 400\n",
      "failed to get data starting at 27400 with a status code of 400\n",
      "failed to get data starting at 27500 with a status code of 400\n"
     ]
    },
    {
     "ename": "KeyboardInterrupt",
     "evalue": "",
     "output_type": "error",
     "traceback": [
      "\u001b[0;31m---------------------------------------------------------------------------\u001b[0m",
      "\u001b[0;31mKeyboardInterrupt\u001b[0m                         Traceback (most recent call last)",
      "Cell \u001b[0;32mIn[2], line 37\u001b[0m\n\u001b[1;32m     34\u001b[0m         \u001b[38;5;28mprint\u001b[39m(\u001b[38;5;124mf\u001b[39m\u001b[38;5;124m'\u001b[39m\u001b[38;5;124mfailed to get data starting at \u001b[39m\u001b[38;5;132;01m{\u001b[39;00mx\u001b[38;5;132;01m}\u001b[39;00m\u001b[38;5;124m with a status code of \u001b[39m\u001b[38;5;132;01m{\u001b[39;00msite_map\u001b[38;5;241m.\u001b[39mstatus_code\u001b[38;5;132;01m}\u001b[39;00m\u001b[38;5;124m'\u001b[39m)\n\u001b[1;32m     36\u001b[0m     \u001b[38;5;66;03m# short delay to avoid rate limit\u001b[39;00m\n\u001b[0;32m---> 37\u001b[0m     time\u001b[38;5;241m.\u001b[39msleep(\u001b[38;5;241m1\u001b[39m) \n\u001b[1;32m     39\u001b[0m \u001b[38;5;66;03m# print out the count\u001b[39;00m\n\u001b[1;32m     40\u001b[0m \u001b[38;5;28mprint\u001b[39m(\u001b[38;5;124mf\u001b[39m\u001b[38;5;124m\"\u001b[39m\u001b[38;5;124mFinal total results: \u001b[39m\u001b[38;5;132;01m{\u001b[39;00m\u001b[38;5;28mlen\u001b[39m(all_results)\u001b[38;5;132;01m}\u001b[39;00m\u001b[38;5;124m\"\u001b[39m)\n",
      "\u001b[0;31mKeyboardInterrupt\u001b[0m: "
     ]
    }
   ],
   "source": [
    "import json\n",
    "import time\n",
    "\n",
    "limit = 100 # i got this number by testing on Postman\n",
    "all_results = []\n",
    "\n",
    "# get the total number of results from the request\n",
    "if response.status_code == 200:\n",
    "    data = response.json()\n",
    "    total_results = data['meta']['results']['total']\n",
    "\n",
    "    # print out the count\n",
    "    print(f\"Total results: {total_results}\")\n",
    "\n",
    "else:\n",
    "    print('Failed to fetch data', response.status_code)\n",
    "\n",
    "\n",
    "\n",
    "# loop through all the data and add to it the 'all_results' open list \n",
    "for x in range(0,total_results,limit):\n",
    "    if x >= total_results:\n",
    "        break  # this is to prevent the issue of skipping past the results\n",
    "\n",
    "\n",
    "    site_map = requests.get(f\"https://api.fda.gov/drug/ndc.json?limit={limit}&skip={x}\")\n",
    "\n",
    "    if site_map.status_code == 200:\n",
    "        data = site_map.json()\n",
    "        if 'results' in data:\n",
    "            all_results.extend(data['results'])\n",
    "\n",
    "    else:\n",
    "        print(f'failed to get data starting at {x} with a status code of {site_map.status_code}')\n",
    "\n",
    "    # short delay to avoid rate limit\n",
    "    time.sleep(1) \n",
    "\n",
    "# print out the count\n",
    "print(f\"Final total results: {len(all_results)}\")"
   ]
  },
  {
   "cell_type": "code",
   "execution_count": 10,
   "metadata": {},
   "outputs": [
    {
     "name": "stdout",
     "output_type": "stream",
     "text": [
      "First 2 items fetched:\n",
      "{'product_ndc': '82429-126', 'generic_name': 'SULFACETAMIDE SODIUM, SULFUR', 'labeler_name': 'Gabar Health Sciences Corp.', 'brand_name': 'Sodium Sulfacetamide 8% and Sulfur 4% Cleanser', 'active_ingredients': [{'name': 'SULFACETAMIDE SODIUM', 'strength': '80 mg/g'}, {'name': 'SULFUR', 'strength': '40 mg/g'}], 'finished': True, 'packaging': [{'package_ndc': '82429-126-16', 'description': '454 g in 1 BOTTLE, PLASTIC (82429-126-16)', 'marketing_start_date': '20230405', 'sample': False}], 'listing_expiration_date': '20251231', 'openfda': {'manufacturer_name': ['Gabar Health Sciences Corp.'], 'rxcui': ['1010234'], 'spl_set_id': ['c9227154-edd4-4787-944b-4cb5ed901f05'], 'is_original_packager': [True], 'upc': ['0382429126166'], 'unii': ['4NRT660KJQ', '70FD1KFU70']}, 'marketing_category': 'UNAPPROVED DRUG OTHER', 'dosage_form': 'LIQUID', 'spl_id': '08368bc6-272c-a9f2-e063-6394a90a3ab9', 'product_type': 'HUMAN PRESCRIPTION DRUG', 'route': ['TOPICAL'], 'marketing_start_date': '20230405', 'product_id': '82429-126_08368bc6-272c-a9f2-e063-6394a90a3ab9', 'brand_name_base': 'Sodium Sulfacetamide 8% and Sulfur 4% Cleanser', 'pharm_class': ['Sulfonamide Antibacterial [EPC]', 'Sulfonamides [CS]']}\n",
      "{'product_ndc': '82520-263', 'generic_name': 'ZINC OXIDE', 'labeler_name': 'Caribbean Sol International, LLC', 'brand_name': 'HAWAIIAN SOL Natural Sunscreen SPF-30', 'active_ingredients': [{'name': 'ZINC OXIDE', 'strength': '160 mg/mL'}], 'finished': True, 'packaging': [{'package_ndc': '82520-263-00', 'description': '177.44 mL in 1 CAN (82520-263-00)', 'marketing_start_date': '20220124', 'sample': False}], 'listing_expiration_date': '20251231', 'openfda': {'manufacturer_name': ['Caribbean Sol International, LLC'], 'spl_set_id': ['3c43fe36-2c24-4859-a262-8af4d3420e47'], 'is_original_packager': [True], 'upc': ['0350221306062'], 'unii': ['SOI2LOH54Z']}, 'marketing_category': 'OTC MONOGRAPH DRUG', 'dosage_form': 'SOLUTION', 'spl_id': '09e3474c-5795-44f0-e063-6294a90a8568', 'product_type': 'HUMAN OTC DRUG', 'route': ['TOPICAL'], 'marketing_start_date': '20220124', 'product_id': '82520-263_09e3474c-5795-44f0-e063-6294a90a8568', 'application_number': 'M020', 'brand_name_base': 'HAWAIIAN SOL Natural Sunscreen SPF-30', 'pharm_class': ['Copper Absorption Inhibitor [EPC]', 'Decreased Copper Ion Absorption [PE]']}\n"
     ]
    }
   ],
   "source": [
    "# testing purposes\n",
    "print(\"First 2 items fetched:\")\n",
    "for x in all_results[:2]:\n",
    "    print(x)"
   ]
  },
  {
   "cell_type": "code",
   "execution_count": null,
   "metadata": {},
   "outputs": [],
   "source": [
    "import psycopg2\n",
    "from dotenv import load_dotenv\n",
    "import os\n",
    "\n",
    "# load credentials\n",
    "load_dotenv()\n",
    "db_user = os.getenv('db_user')\n",
    "db_password = os.getenv('db_password')\n",
    "\n",
    "# connect to the postgres database\n",
    "conn = psycopg2.connect(\n",
    "    host = 'localhost',\n",
    "    database = 'postgres',\n",
    "    user = db_user,\n",
    "    password = db_password)\n",
    "\n",
    "cursor = conn.cursor()"
   ]
  },
  {
   "cell_type": "code",
   "execution_count": null,
   "metadata": {},
   "outputs": [],
   "source": [
    "# reconnect to the access the new database\n",
    "conn = psycopg2.connect(\n",
    "    host = 'localhost',\n",
    "    database = 'Postgres 16 - Localhost - FDA-NDC-ETL_db',\n",
    "    user = db_user,\n",
    "    password = db_password)\n",
    "\n",
    "cursor = conn.cursor()"
   ]
  },
  {
   "cell_type": "code",
   "execution_count": null,
   "metadata": {},
   "outputs": [],
   "source": [
    "# create the table\n",
    "cursor.execute(\n",
    "'''\n",
    "CREATE TABLE IF NOT EXISTS FDA_Drugs_db (\n",
    "    product_id VARCHAR PRIMARY KEY,\n",
    "    product_ndc VARCHAR,\n",
    "    generic_name TEXT,\n",
    "    labeler_name TEXT,\n",
    "    brand_name TEXT,\n",
    "    active_ingredients VARCHAR,  -- This needs to be serialized\n",
    "    finished BOOLEAN,\n",
    "    packaging VARCHAR,  -- This needs to be serialized\n",
    "    listing_expiration_date DATE,\n",
    "    openfda VARCHAR,\n",
    "    marketing_category VARCHAR,\n",
    "    dosage_form VARCHAR,\n",
    "    spl_id VARCHAR,\n",
    "    product_type VARCHAR,\n",
    "    route TEXT[],\n",
    "    marketing_start_date DATE,\n",
    "    brand_name_base VARCHAR,\n",
    "    pharm_class VARCHAR  -- This needs to be serialized\n",
    "                                        );\n",
    "'''\n",
    ")\n",
    "# Commit\n",
    "conn.commit()"
   ]
  },
  {
   "cell_type": "code",
   "execution_count": null,
   "metadata": {},
   "outputs": [],
   "source": [
    "# Print each items in 'results' as a list for easy viewing and editing\n",
    "for result in data['results']:\n",
    "    print(\"[\", end=\"\")\n",
    "    print(*result, sep=\", \", end=\"\")\n",
    "    print(\"]\")\n",
    "\n",
    "# Using a manual approach for data extraction and handling to break out each item for SQL insertion instead of relying on pd.json_normalize\n",
    "for result in data['results']:\n",
    "    product_ndc = result['product_ndc']\n",
    "    generic_name = result['generic_name']\n",
    "    labeler_name = result['labeler_name']\n",
    "    brand_name = result['brand_name']\n",
    "    # active_ingredients = result['active_ingredients']  # this is a dictionary\n",
    "    finished = result['finished']\n",
    "    # packaging = result['packaging']  - this is a dictionary\n",
    "    listing_expiration_date = result['listing_expiration_date']\n",
    "    # openfda = result['openfda'] - this is a dictionary\n",
    "    marketing_category = result['marketing_category']\n",
    "    dosage_form = result['dosage_form']\n",
    "    spl_id = result['spl_id']\n",
    "    product_type = result['product_type']\n",
    "    route = result['route']\n",
    "    marketing_start_date = result['marketing_start_date']\n",
    "    product_id = result['product_id']\n",
    "    brand_name_base = result['brand_name_base']\n",
    "    # pharm_class = result['pharm_class'] - this is a dictionary"
   ]
  },
  {
   "cell_type": "code",
   "execution_count": null,
   "metadata": {},
   "outputs": [],
   "source": [
    "# Add data to the table\n",
    "cursor.execute(\n",
    "    '''\n",
    "    INSERT INTO FDA_Drugs_db (\n",
    "    \"product_ndc\",\n",
    "    \"generic_name\",\n",
    "    \"labeler_name\",\n",
    "    \"brand_name\",\n",
    "    \"finished\",\n",
    "    \"listing_expiration_date\",\n",
    "    \"marketing_category\",\n",
    "    \"dosage_form\",\n",
    "    \"spl_id\",\n",
    "    \"product_type\",\n",
    "    \"route\",\n",
    "    \"marketing_start_date\",\n",
    "    \"product_id\",\n",
    "    \"brand_name_base\"\n",
    ")\n",
    "VALUES (%s, %s, %s, %s, %s, %s, %s, %s, %s, %s, %s, %s, %s, %s)\n",
    "ON CONFLICT (\"product_id\") DO NOTHING\n",
    "    ''', \n",
    "    (\n",
    "        product_ndc,\n",
    "        generic_name,\n",
    "        labeler_name,\n",
    "        brand_name,\n",
    "        finished,\n",
    "        listing_expiration_date,\n",
    "        marketing_category,\n",
    "        dosage_form,\n",
    "        spl_id,\n",
    "        product_type,\n",
    "        route,\n",
    "        marketing_start_date,\n",
    "        product_id,\n",
    "        brand_name_base\n",
    "    )\n",
    ")\n",
    "\n",
    "# Commit the transaction\n",
    "conn.commit()"
   ]
  },
  {
   "cell_type": "code",
   "execution_count": null,
   "metadata": {},
   "outputs": [],
   "source": [
    "# add data to the table\n",
    "sql_query = '''\n",
    "            SELECT * FROM FDA_Drugs_db\n",
    "            '''\n",
    "    \n",
    "# Execute the query\n",
    "cursor.execute(sql_query)\n",
    "# Fetch all the results\n",
    "results = cursor.fetchall()"
   ]
  },
  {
   "cell_type": "code",
   "execution_count": null,
   "metadata": {},
   "outputs": [],
   "source": [
    "import pandas as pd\n",
    "\n",
    "# Add column names to dataframe\n",
    "column_names = [x[0] for x in cursor.description]\n",
    "df = pd.DataFrame(results, columns=column_names)\n",
    "\n",
    "# See results\n",
    "df"
   ]
  }
 ],
 "metadata": {
  "kernelspec": {
   "display_name": ".venv",
   "language": "python",
   "name": "python3"
  },
  "language_info": {
   "codemirror_mode": {
    "name": "ipython",
    "version": 3
   },
   "file_extension": ".py",
   "mimetype": "text/x-python",
   "name": "python",
   "nbconvert_exporter": "python",
   "pygments_lexer": "ipython3",
   "version": "3.11.0"
  }
 },
 "nbformat": 4,
 "nbformat_minor": 2
}
