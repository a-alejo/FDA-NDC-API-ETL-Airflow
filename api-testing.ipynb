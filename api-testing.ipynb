{
 "cells": [
  {
   "cell_type": "markdown",
   "metadata": {},
   "source": [
    "# FDA NTC ETL Pipeline\n",
    "- API website: https://open.fda.gov/data/downloads/\n",
    "- Objective: Collect drug information from the FDA NDC (National Drug Code Directory) API"
   ]
  },
  {
   "cell_type": "code",
   "execution_count": 1,
   "metadata": {},
   "outputs": [
    {
     "name": "stdout",
     "output_type": "stream",
     "text": [
      "200\n"
     ]
    }
   ],
   "source": [
    "# Requesting the API and getting a status code\n",
    "import requests\n",
    "response = requests.get(\"https://api.fda.gov/drug/ndc.json\")\n",
    "print(response.status_code)"
   ]
  },
  {
   "cell_type": "code",
   "execution_count": 2,
   "metadata": {},
   "outputs": [
    {
     "name": "stdout",
     "output_type": "stream",
     "text": [
      "{\n",
      "    \"disclaimer\": \"Do not rely on openFDA to make decisions regarding medical care. While we make every effort to ensure that data is accurate, you should assume all results are unvalidated. We may limit or otherwise restrict your access to the API in line with our Terms of Service.\",\n",
      "    \"last_updated\": \"2025-02-05\",\n",
      "    \"license\": \"https://open.fda.gov/license/\",\n",
      "    \"results\": {\n",
      "        \"limit\": 1,\n",
      "        \"skip\": 0,\n",
      "        \"total\": 128582\n",
      "    },\n",
      "    \"terms\": \"https://open.fda.gov/terms/\"\n",
      "}\n"
     ]
    }
   ],
   "source": [
    "import json\n",
    "\n",
    "# Request the API\n",
    "response = requests.get(\"https://api.fda.gov/drug/ndc.json\")\n",
    "data = response.json()\n",
    "\n",
    "# Checking if the request was successful then returning a sample of the data\n",
    "if response.status_code == 200:\n",
    "    data = response.json()\n",
    "    print(json.dumps(data['meta'], indent=4, sort_keys=True))\n",
    "else:\n",
    "    print('Failed to fetch data', response.status_code)"
   ]
  },
  {
   "cell_type": "code",
   "execution_count": 3,
   "metadata": {},
   "outputs": [],
   "source": [
    "import psycopg2\n",
    "from dotenv import load_dotenv\n",
    "import os\n",
    "\n",
    "# load credentials\n",
    "load_dotenv()\n",
    "db_user = os.getenv('db_user')\n",
    "db_password = os.getenv('db_password')\n",
    "\n",
    "# connect to the postgres database\n",
    "conn = psycopg2.connect(\n",
    "    host = 'localhost',\n",
    "    database = 'postgres',\n",
    "    user = db_user,\n",
    "    password = db_password)\n",
    "\n",
    "cursor = conn.cursor()"
   ]
  },
  {
   "cell_type": "code",
   "execution_count": 4,
   "metadata": {},
   "outputs": [],
   "source": [
    "# enable autocommit so CREATE DATABASE can be used\n",
    "conn.autocommit = True\n",
    "# create the new database\n",
    "cursor.execute(\"DROP DATABASE \\\"Postgres 16 - Localhost - FDA-NDC-ETL_db\\\"\")"
   ]
  },
  {
   "cell_type": "code",
   "execution_count": 5,
   "metadata": {},
   "outputs": [],
   "source": [
    "# enable autocommit so CREATE DATABASE can be used\n",
    "conn.autocommit = True\n",
    "# create the new database\n",
    "cursor.execute(\"CREATE DATABASE \\\"Postgres 16 - Localhost - FDA-NDC-ETL_db\\\"\")"
   ]
  },
  {
   "cell_type": "code",
   "execution_count": 27,
   "metadata": {},
   "outputs": [],
   "source": [
    "# reconnect to the access the new database\n",
    "conn = psycopg2.connect(\n",
    "    host = 'localhost',\n",
    "    database = 'Postgres 16 - Localhost - FDA-NDC-ETL_db',\n",
    "    user = db_user,\n",
    "    password = db_password)\n",
    "\n",
    "cursor = conn.cursor()"
   ]
  },
  {
   "cell_type": "code",
   "execution_count": 29,
   "metadata": {},
   "outputs": [],
   "source": [
    "# create the table\n",
    "cursor.execute(\n",
    "'''\n",
    "CREATE TABLE IF NOT EXISTS FDA_Drugs_db (\n",
    "    product_ndc TEXT PRIMARY KEY,\n",
    "    brand_name TEXT,\n",
    "    marketing_start_date DATE\n",
    "                                        );\n",
    "'''\n",
    ")\n",
    "# Commit\n",
    "conn.commit()"
   ]
  },
  {
   "cell_type": "code",
   "execution_count": 30,
   "metadata": {},
   "outputs": [],
   "source": [
    "# testing the first \n",
    "first_result = data['results'][0]\n",
    "\n",
    "product_ndc = first_result['product_ndc']\n",
    "brand_name = first_result['brand_name']\n",
    "marketing_start_date = first_result['marketing_start_date']"
   ]
  },
  {
   "cell_type": "code",
   "execution_count": 31,
   "metadata": {},
   "outputs": [],
   "source": [
    "# add data to the table\n",
    "cursor.execute(\n",
    "    '''\n",
    "    INSERT INTO FDA_Drugs_db (product_ndc, brand_name, marketing_start_date)\n",
    "    VALUES (%s, %s, %s)\n",
    "    ''', \n",
    "    (product_ndc, brand_name, marketing_start_date)\n",
    ")\n",
    "# Commit the transaction\n",
    "conn.commit()"
   ]
  },
  {
   "cell_type": "code",
   "execution_count": 34,
   "metadata": {},
   "outputs": [],
   "source": [
    "# add data to the table\n",
    "sql_query = '''\n",
    "    select * from FDA_Drugs_db\n",
    "    '''"
   ]
  },
  {
   "cell_type": "code",
   "execution_count": 35,
   "metadata": {},
   "outputs": [],
   "source": [
    "# Execute the query\n",
    "cursor.execute(sql_query)\n",
    "# Fetch all the results\n",
    "results = cursor.fetchall()"
   ]
  },
  {
   "cell_type": "code",
   "execution_count": 38,
   "metadata": {},
   "outputs": [
    {
     "data": {
      "text/html": [
       "<div>\n",
       "<style scoped>\n",
       "    .dataframe tbody tr th:only-of-type {\n",
       "        vertical-align: middle;\n",
       "    }\n",
       "\n",
       "    .dataframe tbody tr th {\n",
       "        vertical-align: top;\n",
       "    }\n",
       "\n",
       "    .dataframe thead th {\n",
       "        text-align: right;\n",
       "    }\n",
       "</style>\n",
       "<table border=\"1\" class=\"dataframe\">\n",
       "  <thead>\n",
       "    <tr style=\"text-align: right;\">\n",
       "      <th></th>\n",
       "      <th>0</th>\n",
       "      <th>1</th>\n",
       "      <th>2</th>\n",
       "    </tr>\n",
       "  </thead>\n",
       "  <tbody>\n",
       "    <tr>\n",
       "      <th>0</th>\n",
       "      <td>79903-485</td>\n",
       "      <td>Liquid Bandage</td>\n",
       "      <td>2012-01-12</td>\n",
       "    </tr>\n",
       "  </tbody>\n",
       "</table>\n",
       "</div>"
      ],
      "text/plain": [
       "           0               1           2\n",
       "0  79903-485  Liquid Bandage  2012-01-12"
      ]
     },
     "execution_count": 38,
     "metadata": {},
     "output_type": "execute_result"
    }
   ],
   "source": [
    "import pandas as pd\n",
    "\n",
    "df = pd. DataFrame(results)\n",
    "\n",
    "# see results\n",
    "df"
   ]
  }
 ],
 "metadata": {
  "kernelspec": {
   "display_name": ".venv",
   "language": "python",
   "name": "python3"
  },
  "language_info": {
   "codemirror_mode": {
    "name": "ipython",
    "version": 3
   },
   "file_extension": ".py",
   "mimetype": "text/x-python",
   "name": "python",
   "nbconvert_exporter": "python",
   "pygments_lexer": "ipython3",
   "version": "3.11.0"
  }
 },
 "nbformat": 4,
 "nbformat_minor": 2
}
